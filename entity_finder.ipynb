{
 "cells": [
  {
   "cell_type": "code",
   "execution_count": 2,
   "metadata": {
    "collapsed": true
   },
   "outputs": [],
   "source": [
    "from tools.ner_tools import find_entities_neighbourhood, NER\n",
    "import pandas as pd"
   ]
  },
  {
   "cell_type": "code",
   "execution_count": null,
   "outputs": [],
   "source": [
    "ner = NER()"
   ],
   "metadata": {
    "collapsed": false
   }
  },
  {
   "cell_type": "code",
   "execution_count": null,
   "outputs": [],
   "source": [
    "base = pd.read_json('./data/raw_articles/sampled_2022.jsonl', lines=True)"
   ],
   "metadata": {
    "collapsed": false
   }
  },
  {
   "cell_type": "code",
   "execution_count": null,
   "outputs": [],
   "source": [
    "base['all'] = base['lead'] + base['text']\n",
    "base['entities'] = base.apply(lambda x: ner.find_entities(x['all']), axis = 1)"
   ],
   "metadata": {
    "collapsed": false,
    "pycharm": {
     "is_executing": true
    }
   }
  },
  {
   "cell_type": "code",
   "execution_count": null,
   "outputs": [],
   "source": [
    "# make df where every row is a single entity and the columns are the entity, the entity group and the article id\n",
    "dfs = []\n",
    "for i in range(len(base)):\n",
    "    for j in range(len(base['entities'].iloc[i])):\n",
    "        dfs.append(pd.DataFrame({'entity': base['entities'].iloc[i][j][0],\n",
    "                        'context': base['entities'].iloc[i][j][2],\n",
    "                        'label': base['entities'].iloc[i][j][1],\n",
    "                        'article_id': base['id'].iloc[i]}, index=[0]))\n",
    "df = pd.concat(dfs, ignore_index=True)"
   ],
   "metadata": {
    "collapsed": false
   }
  },
  {
   "cell_type": "code",
   "execution_count": null,
   "outputs": [],
   "source": [
    "df_text = df.merge(base[['id', 'all']], left_on='article_id', right_on='id').drop('id', axis=1)\n",
    "df_text.rename(columns={'all': 'text'}, inplace=True)"
   ],
   "metadata": {
    "collapsed": false
   }
  },
  {
   "cell_type": "code",
   "execution_count": null,
   "outputs": [],
   "source": [
    "def find_context_in_text(context, text):\n",
    "    start = text.find(context)\n",
    "    end = start + len(context)\n",
    "    return start, end\n",
    "\n",
    "def process_df(\n",
    "        df_to_process: pd.DataFrame,\n",
    "):\n",
    "    df_to_process['context'] = df_to_process.apply(lambda x: x['context'].replace(' .', '.').replace(' ,', ','), axis=1)\n",
    "    df_to_process['text'] = df_to_process.apply(lambda x: x['text'].replace('\\n\\n', ' '), axis=1)\n",
    "    df_to_process['context_start'] = df_to_process.apply(lambda x: find_context_in_text(x['context'], x['text'])[0], axis=1)\n",
    "    df_to_process['context_end'] = df_to_process.apply(lambda x: find_context_in_text(x['context'], x['text'])[1], axis=1)\n",
    "\n",
    "    df_to_process['entity_start'] = df_to_process.apply(lambda x: find_context_in_text(x['entity'], x['context'])[0] + x['context_start'], axis=1)\n",
    "\n",
    "    df_to_process['entity_end'] = df_to_process.apply(lambda x: find_context_in_text(x['entity'], x['context'])[1] + x['context_start'], axis=1)\n",
    "    df_to_process['found_entity'] = df_to_process.apply(lambda x: x['text'][x['entity_start']:x['entity_end']], axis=1)\n",
    "\n",
    "    df_to_process = df_to_process.drop_duplicates(subset=['article_id', 'entity_end'], keep='first')\n",
    "    df_to_process = df_to_process.drop_duplicates(subset=['article_id', 'entity_start'], keep='first')\n",
    "\n",
    "    res = df_to_process[df_to_process['entity'] == df_to_process['found_entity']]\n",
    "    res = res[res['entity'].apply(lambda x: len(x) > 1)]\n",
    "\n",
    "    return res\n",
    "\n",
    "result = process_df(df_text)"
   ],
   "metadata": {
    "collapsed": false
   }
  }
 ],
 "metadata": {
  "kernelspec": {
   "display_name": "Python 3",
   "language": "python",
   "name": "python3"
  },
  "language_info": {
   "codemirror_mode": {
    "name": "ipython",
    "version": 2
   },
   "file_extension": ".py",
   "mimetype": "text/x-python",
   "name": "python",
   "nbconvert_exporter": "python",
   "pygments_lexer": "ipython2",
   "version": "2.7.6"
  }
 },
 "nbformat": 4,
 "nbformat_minor": 0
}

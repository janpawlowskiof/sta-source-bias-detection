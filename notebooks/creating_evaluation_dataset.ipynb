{
 "cells": [
  {
   "cell_type": "code",
   "execution_count": 1,
   "metadata": {},
   "outputs": [],
   "source": [
    "import requests\n",
    "import os\n",
    "import pandas as pd\n",
    "from datetime import datetime\n",
    "from tqdm import tqdm"
   ]
  },
  {
   "attachments": {},
   "cell_type": "markdown",
   "metadata": {},
   "source": [
    "### 1. Articles scrapping"
   ]
  },
  {
   "cell_type": "code",
   "execution_count": 39,
   "metadata": {},
   "outputs": [
    {
     "name": "stderr",
     "output_type": "stream",
     "text": [
      "100%|██████████| 31/31 [11:34<00:00, 22.41s/it]\n"
     ]
    }
   ],
   "source": [
    "with open('../.api_auth') as f:\n",
    "    (api_login, api_pass) = [line.rstrip() for line in f]\n",
    "\n",
    "ids = []\n",
    "leads = []\n",
    "texts = []\n",
    "\n",
    "date_range = pd.date_range(start=\"2023-01-01\", end=\"2023-01-31\").strftime('%d.%m.%Y').to_list()\n",
    "for date in tqdm(date_range):\n",
    "    r1 = requests.get(f'https://api.sta.si/news/sl/{date}', auth=(api_login, api_pass))\n",
    "    articles_id = eval(r1.content)\n",
    "\n",
    "    for id in articles_id:\n",
    "        r2 = requests.get(f'https://api.sta.si/news/sta/{id}', auth=(api_login, api_pass))\n",
    "        ids.append(id)\n",
    "        leads.append(r2.json().get('lede', ''))\n",
    "        texts.append(r2.json().get('text', ''))\n",
    "\n",
    "dataset = pd.DataFrame({'id': ids, 'lead': leads, 'text': texts})\n",
    "dataset.to_json(f'../data/raw_articles/01_2023.jsonl', lines=True, orient='records')"
   ]
  },
  {
   "attachments": {},
   "cell_type": "markdown",
   "metadata": {},
   "source": [
    "### 2. Preparing evaluation dataset"
   ]
  },
  {
   "cell_type": "code",
   "execution_count": 12,
   "metadata": {},
   "outputs": [],
   "source": [
    "# df = pd.read_json(\"..\\\\data\\\\raw_articles\\\\all_2023.jsonl\", lines=True)\n",
    "# df_eval = df.sample(200).reset_index(drop=True)\n",
    "# df_eval.to_json(f'../data/raw_articles/all_2023_eval.jsonl', lines=True, orient='records')"
   ]
  },
  {
   "cell_type": "code",
   "execution_count": 10,
   "metadata": {},
   "outputs": [],
   "source": [
    "df_eval = pd.read_json(\"..\\\\data\\\\raw_articles\\\\all_2023_eval.jsonl\", lines=True)\n",
    "df_eval.to_json(f'../data/raw_articles/all_2023_eval.jsonl', lines=True, orient='records', force_ascii=False)"
   ]
  },
  {
   "cell_type": "code",
   "execution_count": 3,
   "metadata": {},
   "outputs": [
    {
     "data": {
      "text/html": [
       "<div>\n",
       "<style scoped>\n",
       "    .dataframe tbody tr th:only-of-type {\n",
       "        vertical-align: middle;\n",
       "    }\n",
       "\n",
       "    .dataframe tbody tr th {\n",
       "        vertical-align: top;\n",
       "    }\n",
       "\n",
       "    .dataframe thead th {\n",
       "        text-align: right;\n",
       "    }\n",
       "</style>\n",
       "<table border=\"1\" class=\"dataframe\">\n",
       "  <thead>\n",
       "    <tr style=\"text-align: right;\">\n",
       "      <th></th>\n",
       "      <th>id</th>\n",
       "      <th>lead</th>\n",
       "      <th>text</th>\n",
       "    </tr>\n",
       "  </thead>\n",
       "  <tbody>\n",
       "    <tr>\n",
       "      <th>0</th>\n",
       "      <td>3163048</td>\n",
       "      <td>Vreme in temperature po Evropi ob 20. uri.</td>\n",
       "      <td>&lt;pre&gt;\\nOpazovalna postaja       Vreme       Te...</td>\n",
       "    </tr>\n",
       "    <tr>\n",
       "      <th>1</th>\n",
       "      <td>3155939</td>\n",
       "      <td></td>\n",
       "      <td></td>\n",
       "    </tr>\n",
       "    <tr>\n",
       "      <th>2</th>\n",
       "      <td>3131650</td>\n",
       "      <td>Občina Vojnik je ta mesec s celjskim podjetjem...</td>\n",
       "      <td>Kot je za STA povedal župan Vojnika Branko Pet...</td>\n",
       "    </tr>\n",
       "    <tr>\n",
       "      <th>3</th>\n",
       "      <td>3160676</td>\n",
       "      <td>Glasbenik Balladero s pravim imenom Dominik Ba...</td>\n",
       "      <td>Balladero, znan po denimo skladbi Zlati časi, ...</td>\n",
       "    </tr>\n",
       "    <tr>\n",
       "      <th>4</th>\n",
       "      <td>3146215</td>\n",
       "      <td>Nogometaši CB24 Tabora Sežane in Brava so se v...</td>\n",
       "      <td>* Stadion Rajka Štolfe, sodniki: Halilović, Me...</td>\n",
       "    </tr>\n",
       "    <tr>\n",
       "      <th>...</th>\n",
       "      <td>...</td>\n",
       "      <td>...</td>\n",
       "      <td>...</td>\n",
       "    </tr>\n",
       "    <tr>\n",
       "      <th>195</th>\n",
       "      <td>3158391</td>\n",
       "      <td>Borze na stari celini danes zaradi praznika mi...</td>\n",
       "      <td>Osrednji indeksi na evropskih borzah so četrtk...</td>\n",
       "    </tr>\n",
       "    <tr>\n",
       "      <th>196</th>\n",
       "      <td>3140600</td>\n",
       "      <td>Napoved ozadij, tematskih prispevkov in pogovo...</td>\n",
       "      <td>- ozadje pred začetkom pogajanj o reformi plač...</td>\n",
       "    </tr>\n",
       "    <tr>\n",
       "      <th>197</th>\n",
       "      <td>3162647</td>\n",
       "      <td>Cene nafte so se tudi v današnjem azijskem trg...</td>\n",
       "      <td>Cena teksaške lahke nafte, ki bo dobavljena ma...</td>\n",
       "    </tr>\n",
       "    <tr>\n",
       "      <th>198</th>\n",
       "      <td>3145481</td>\n",
       "      <td>V Estoniji bodo danes potekale volitve, na kat...</td>\n",
       "      <td>Estonija, ki je članica tako EU kot zveze Nato...</td>\n",
       "    </tr>\n",
       "    <tr>\n",
       "      <th>199</th>\n",
       "      <td>3128685</td>\n",
       "      <td>Založba Beletrina bo letos v okviru rednega za...</td>\n",
       "      <td>Načrte za letošnje leto s pregledom preteklega...</td>\n",
       "    </tr>\n",
       "  </tbody>\n",
       "</table>\n",
       "<p>200 rows × 3 columns</p>\n",
       "</div>"
      ],
      "text/plain": [
       "          id                                               lead  \\\n",
       "0    3163048         Vreme in temperature po Evropi ob 20. uri.   \n",
       "1    3155939                                                      \n",
       "2    3131650  Občina Vojnik je ta mesec s celjskim podjetjem...   \n",
       "3    3160676  Glasbenik Balladero s pravim imenom Dominik Ba...   \n",
       "4    3146215  Nogometaši CB24 Tabora Sežane in Brava so se v...   \n",
       "..       ...                                                ...   \n",
       "195  3158391  Borze na stari celini danes zaradi praznika mi...   \n",
       "196  3140600  Napoved ozadij, tematskih prispevkov in pogovo...   \n",
       "197  3162647  Cene nafte so se tudi v današnjem azijskem trg...   \n",
       "198  3145481  V Estoniji bodo danes potekale volitve, na kat...   \n",
       "199  3128685  Založba Beletrina bo letos v okviru rednega za...   \n",
       "\n",
       "                                                  text  \n",
       "0    <pre>\\nOpazovalna postaja       Vreme       Te...  \n",
       "1                                                       \n",
       "2    Kot je za STA povedal župan Vojnika Branko Pet...  \n",
       "3    Balladero, znan po denimo skladbi Zlati časi, ...  \n",
       "4    * Stadion Rajka Štolfe, sodniki: Halilović, Me...  \n",
       "..                                                 ...  \n",
       "195  Osrednji indeksi na evropskih borzah so četrtk...  \n",
       "196  - ozadje pred začetkom pogajanj o reformi plač...  \n",
       "197  Cena teksaške lahke nafte, ki bo dobavljena ma...  \n",
       "198  Estonija, ki je članica tako EU kot zveze Nato...  \n",
       "199  Načrte za letošnje leto s pregledom preteklega...  \n",
       "\n",
       "[200 rows x 3 columns]"
      ]
     },
     "execution_count": 3,
     "metadata": {},
     "output_type": "execute_result"
    }
   ],
   "source": [
    "df_eval"
   ]
  }
 ],
 "metadata": {
  "kernelspec": {
   "display_name": "par3",
   "language": "python",
   "name": "python3"
  },
  "language_info": {
   "codemirror_mode": {
    "name": "ipython",
    "version": 3
   },
   "file_extension": ".py",
   "mimetype": "text/x-python",
   "name": "python",
   "nbconvert_exporter": "python",
   "pygments_lexer": "ipython3",
   "version": "3.10.11"
  },
  "orig_nbformat": 4
 },
 "nbformat": 4,
 "nbformat_minor": 2
}

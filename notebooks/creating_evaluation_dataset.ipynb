{
 "cells": [
  {
   "cell_type": "code",
   "execution_count": 1,
   "metadata": {},
   "outputs": [],
   "source": [
    "import requests\n",
    "import os\n",
    "import pandas as pd\n",
    "from datetime import datetime\n",
    "from tqdm import tqdm"
   ]
  },
  {
   "attachments": {},
   "cell_type": "markdown",
   "metadata": {},
   "source": [
    "### 1. Articles scrapping"
   ]
  },
  {
   "cell_type": "code",
   "execution_count": 21,
   "metadata": {},
   "outputs": [
    {
     "name": "stderr",
     "output_type": "stream",
     "text": [
      "100%|██████████| 365/365 [1:28:59<00:00, 14.63s/it]\n"
     ]
    },
    {
     "ename": "ValueError",
     "evalue": "All arrays must be of the same length",
     "output_type": "error",
     "traceback": [
      "\u001b[1;31m---------------------------------------------------------------------------\u001b[0m",
      "\u001b[1;31mValueError\u001b[0m                                Traceback (most recent call last)",
      "Cell \u001b[1;32mIn[21], line 24\u001b[0m\n\u001b[0;32m     21\u001b[0m             leads\u001b[39m.\u001b[39mappend(r2\u001b[39m.\u001b[39mjson()\u001b[39m.\u001b[39mget(\u001b[39m'\u001b[39m\u001b[39mlede\u001b[39m\u001b[39m'\u001b[39m, \u001b[39m'\u001b[39m\u001b[39m'\u001b[39m))\n\u001b[0;32m     22\u001b[0m             texts\u001b[39m.\u001b[39mappend(r2\u001b[39m.\u001b[39mjson()\u001b[39m.\u001b[39mget(\u001b[39m'\u001b[39m\u001b[39mtext\u001b[39m\u001b[39m'\u001b[39m, \u001b[39m'\u001b[39m\u001b[39m'\u001b[39m))\n\u001b[1;32m---> 24\u001b[0m dataset \u001b[39m=\u001b[39m pd\u001b[39m.\u001b[39;49mDataFrame({\u001b[39m'\u001b[39;49m\u001b[39mid\u001b[39;49m\u001b[39m'\u001b[39;49m: ids, \u001b[39m'\u001b[39;49m\u001b[39mcategories\u001b[39;49m\u001b[39m'\u001b[39;49m: categories, \u001b[39m'\u001b[39;49m\u001b[39mlead\u001b[39;49m\u001b[39m'\u001b[39;49m: leads, \u001b[39m'\u001b[39;49m\u001b[39mtext\u001b[39;49m\u001b[39m'\u001b[39;49m: texts})\n\u001b[0;32m     25\u001b[0m dataset\u001b[39m.\u001b[39mto_json(\u001b[39mf\u001b[39m\u001b[39m'\u001b[39m\u001b[39m../data/raw_articles/all_2022_2.jsonl\u001b[39m\u001b[39m'\u001b[39m, lines\u001b[39m=\u001b[39m\u001b[39mTrue\u001b[39;00m, orient\u001b[39m=\u001b[39m\u001b[39m'\u001b[39m\u001b[39mrecords\u001b[39m\u001b[39m'\u001b[39m)\n",
      "File \u001b[1;32mc:\\Users\\dkuro\\miniconda3\\envs\\sta-slovenia\\lib\\site-packages\\pandas\\core\\frame.py:664\u001b[0m, in \u001b[0;36mDataFrame.__init__\u001b[1;34m(self, data, index, columns, dtype, copy)\u001b[0m\n\u001b[0;32m    658\u001b[0m     mgr \u001b[39m=\u001b[39m \u001b[39mself\u001b[39m\u001b[39m.\u001b[39m_init_mgr(\n\u001b[0;32m    659\u001b[0m         data, axes\u001b[39m=\u001b[39m{\u001b[39m\"\u001b[39m\u001b[39mindex\u001b[39m\u001b[39m\"\u001b[39m: index, \u001b[39m\"\u001b[39m\u001b[39mcolumns\u001b[39m\u001b[39m\"\u001b[39m: columns}, dtype\u001b[39m=\u001b[39mdtype, copy\u001b[39m=\u001b[39mcopy\n\u001b[0;32m    660\u001b[0m     )\n\u001b[0;32m    662\u001b[0m \u001b[39melif\u001b[39;00m \u001b[39misinstance\u001b[39m(data, \u001b[39mdict\u001b[39m):\n\u001b[0;32m    663\u001b[0m     \u001b[39m# GH#38939 de facto copy defaults to False only in non-dict cases\u001b[39;00m\n\u001b[1;32m--> 664\u001b[0m     mgr \u001b[39m=\u001b[39m dict_to_mgr(data, index, columns, dtype\u001b[39m=\u001b[39;49mdtype, copy\u001b[39m=\u001b[39;49mcopy, typ\u001b[39m=\u001b[39;49mmanager)\n\u001b[0;32m    665\u001b[0m \u001b[39melif\u001b[39;00m \u001b[39misinstance\u001b[39m(data, ma\u001b[39m.\u001b[39mMaskedArray):\n\u001b[0;32m    666\u001b[0m     \u001b[39mimport\u001b[39;00m \u001b[39mnumpy\u001b[39;00m\u001b[39m.\u001b[39;00m\u001b[39mma\u001b[39;00m\u001b[39m.\u001b[39;00m\u001b[39mmrecords\u001b[39;00m \u001b[39mas\u001b[39;00m \u001b[39mmrecords\u001b[39;00m\n",
      "File \u001b[1;32mc:\\Users\\dkuro\\miniconda3\\envs\\sta-slovenia\\lib\\site-packages\\pandas\\core\\internals\\construction.py:493\u001b[0m, in \u001b[0;36mdict_to_mgr\u001b[1;34m(data, index, columns, dtype, typ, copy)\u001b[0m\n\u001b[0;32m    489\u001b[0m     \u001b[39melse\u001b[39;00m:\n\u001b[0;32m    490\u001b[0m         \u001b[39m# dtype check to exclude e.g. range objects, scalars\u001b[39;00m\n\u001b[0;32m    491\u001b[0m         arrays \u001b[39m=\u001b[39m [x\u001b[39m.\u001b[39mcopy() \u001b[39mif\u001b[39;00m \u001b[39mhasattr\u001b[39m(x, \u001b[39m\"\u001b[39m\u001b[39mdtype\u001b[39m\u001b[39m\"\u001b[39m) \u001b[39melse\u001b[39;00m x \u001b[39mfor\u001b[39;00m x \u001b[39min\u001b[39;00m arrays]\n\u001b[1;32m--> 493\u001b[0m \u001b[39mreturn\u001b[39;00m arrays_to_mgr(arrays, columns, index, dtype\u001b[39m=\u001b[39;49mdtype, typ\u001b[39m=\u001b[39;49mtyp, consolidate\u001b[39m=\u001b[39;49mcopy)\n",
      "File \u001b[1;32mc:\\Users\\dkuro\\miniconda3\\envs\\sta-slovenia\\lib\\site-packages\\pandas\\core\\internals\\construction.py:118\u001b[0m, in \u001b[0;36marrays_to_mgr\u001b[1;34m(arrays, columns, index, dtype, verify_integrity, typ, consolidate)\u001b[0m\n\u001b[0;32m    115\u001b[0m \u001b[39mif\u001b[39;00m verify_integrity:\n\u001b[0;32m    116\u001b[0m     \u001b[39m# figure out the index, if necessary\u001b[39;00m\n\u001b[0;32m    117\u001b[0m     \u001b[39mif\u001b[39;00m index \u001b[39mis\u001b[39;00m \u001b[39mNone\u001b[39;00m:\n\u001b[1;32m--> 118\u001b[0m         index \u001b[39m=\u001b[39m _extract_index(arrays)\n\u001b[0;32m    119\u001b[0m     \u001b[39melse\u001b[39;00m:\n\u001b[0;32m    120\u001b[0m         index \u001b[39m=\u001b[39m ensure_index(index)\n",
      "File \u001b[1;32mc:\\Users\\dkuro\\miniconda3\\envs\\sta-slovenia\\lib\\site-packages\\pandas\\core\\internals\\construction.py:666\u001b[0m, in \u001b[0;36m_extract_index\u001b[1;34m(data)\u001b[0m\n\u001b[0;32m    664\u001b[0m lengths \u001b[39m=\u001b[39m \u001b[39mlist\u001b[39m(\u001b[39mset\u001b[39m(raw_lengths))\n\u001b[0;32m    665\u001b[0m \u001b[39mif\u001b[39;00m \u001b[39mlen\u001b[39m(lengths) \u001b[39m>\u001b[39m \u001b[39m1\u001b[39m:\n\u001b[1;32m--> 666\u001b[0m     \u001b[39mraise\u001b[39;00m \u001b[39mValueError\u001b[39;00m(\u001b[39m\"\u001b[39m\u001b[39mAll arrays must be of the same length\u001b[39m\u001b[39m\"\u001b[39m)\n\u001b[0;32m    668\u001b[0m \u001b[39mif\u001b[39;00m have_dicts:\n\u001b[0;32m    669\u001b[0m     \u001b[39mraise\u001b[39;00m \u001b[39mValueError\u001b[39;00m(\n\u001b[0;32m    670\u001b[0m         \u001b[39m\"\u001b[39m\u001b[39mMixing dicts with non-Series may lead to ambiguous ordering.\u001b[39m\u001b[39m\"\u001b[39m\n\u001b[0;32m    671\u001b[0m     )\n",
      "\u001b[1;31mValueError\u001b[0m: All arrays must be of the same length"
     ]
    }
   ],
   "source": [
    "with open('../.api_auth') as f:\n",
    "    (api_login, api_pass) = [line.rstrip() for line in f]\n",
    "\n",
    "ids = []\n",
    "categories = []\n",
    "leads = []\n",
    "texts = []\n",
    "\n",
    "date_range = pd.date_range(start=\"2022-01-01\", end=\"2022-12-31\").strftime('%d.%m.%Y').to_list()\n",
    "for date in tqdm(date_range):\n",
    "    r1 = requests.get(f'https://api.sta.si/news/sl/{date}', auth=(api_login, api_pass))\n",
    "    articles_id = eval(r1.content)\n",
    "\n",
    "    for id in articles_id:\n",
    "        r2 = requests.get(f'https://api.sta.si/news/sta/{id}', auth=(api_login, api_pass))\n",
    "\n",
    "        categories = r2.json().get('categories', [])\n",
    "        if not any(category in ['SI', 'NA', 'PG', 'SU', 'SP'] for category in categories):\n",
    "            ids.append(id)\n",
    "            categories.append(categories)\n",
    "            leads.append(r2.json().get('lede', ''))\n",
    "            texts.append(r2.json().get('text', ''))\n",
    "          \n",
    "dataset = pd.DataFrame({'id': ids, 'categories': categories, 'lead': leads, 'text': texts})\n",
    "dataset.to_json(f'../data/raw_articles/all_2022_2.jsonl', lines=True, orient='records')"
   ]
  },
  {
   "attachments": {},
   "cell_type": "markdown",
   "metadata": {},
   "source": [
    "### 2. Preparing evaluation dataset"
   ]
  },
  {
   "cell_type": "code",
   "execution_count": 12,
   "metadata": {},
   "outputs": [],
   "source": [
    "# df = pd.read_json(\"..\\\\data\\\\raw_articles\\\\all_2023.jsonl\", lines=True)\n",
    "# df_eval = df.sample(100).reset_index(drop=True)\n",
    "# df_eval.to_json(f'../data/raw_articles/all_2023_eval.jsonl', lines=True, orient='records', force_ascii=False)"
   ]
  },
  {
   "cell_type": "code",
   "execution_count": 48,
   "metadata": {},
   "outputs": [],
   "source": [
    "# df = pd.read_json(\"..\\\\data\\\\raw_annotated\\\\sta_01.json\", lines=True)['examples']\n",
    "\n",
    "# id      = []\n",
    "# content = []\n",
    "# start   = []\n",
    "# end     = []\n",
    "# value   = []\n",
    "\n",
    "# for i in range(len(df[0])):\n",
    "#     row = df[0][i]\n",
    "#     for annotation in row['annotations']:\n",
    "#         if annotation['correct'] == True:\n",
    "#             id.append(row['metadata']['id'])\n",
    "#             content.append(row['content'])\n",
    "#             start.append(annotation['start'])\n",
    "#             end.append(annotation['end'])\n",
    "#             value.append(annotation['value'])\n"
   ]
  },
  {
   "cell_type": "code",
   "execution_count": 67,
   "metadata": {},
   "outputs": [],
   "source": [
    "# eval_df = pd.DataFrame({'id': id, 'text': content, 'entity': value, 'start': start, 'end': end})\n",
    "# eval_df.to_json(f'../data/2023_eval.jsonl', lines=True, orient='records', force_ascii=False)"
   ]
  },
  {
   "attachments": {},
   "cell_type": "markdown",
   "metadata": {},
   "source": [
    "### 3. Ręczna anotacja zbioru testowego"
   ]
  },
  {
   "cell_type": "code",
   "execution_count": 9,
   "metadata": {},
   "outputs": [],
   "source": [
    "# df = pd.read_json(\"..\\\\data\\\\raw_articles\\\\all_2022.jsonl\", lines=True)"
   ]
  },
  {
   "cell_type": "code",
   "execution_count": 12,
   "metadata": {},
   "outputs": [],
   "source": [
    "# df.sample(10000).reset_index(drop=True).to_json('../data/train_test/sampled_2022.jsonl', lines=True, orient='records', force_ascii=False)"
   ]
  },
  {
   "cell_type": "code",
   "execution_count": 16,
   "metadata": {},
   "outputs": [
    {
     "data": {
      "text/html": [
       "<div>\n",
       "<style scoped>\n",
       "    .dataframe tbody tr th:only-of-type {\n",
       "        vertical-align: middle;\n",
       "    }\n",
       "\n",
       "    .dataframe tbody tr th {\n",
       "        vertical-align: top;\n",
       "    }\n",
       "\n",
       "    .dataframe thead th {\n",
       "        text-align: right;\n",
       "    }\n",
       "</style>\n",
       "<table border=\"1\" class=\"dataframe\">\n",
       "  <thead>\n",
       "    <tr style=\"text-align: right;\">\n",
       "      <th></th>\n",
       "      <th>entity</th>\n",
       "      <th>context</th>\n",
       "      <th>article_id</th>\n",
       "    </tr>\n",
       "  </thead>\n",
       "  <tbody>\n",
       "    <tr>\n",
       "      <th>0</th>\n",
       "      <td>SDS</td>\n",
       "      <td>SDS bo v prihodnjih dneh v DZ</td>\n",
       "      <td>3089645</td>\n",
       "    </tr>\n",
       "    <tr>\n",
       "      <th>1</th>\n",
       "      <td>DZ</td>\n",
       "      <td>SDS bo v prihodnjih dneh v DZ vložila zahtevo ...</td>\n",
       "      <td>3089645</td>\n",
       "    </tr>\n",
       "    <tr>\n",
       "      <th>2</th>\n",
       "      <td>DZ</td>\n",
       "      <td>dolgotrajni oskrbi, kot jih je sprejel DZ .&lt;b&gt;...</td>\n",
       "      <td>3089645</td>\n",
       "    </tr>\n",
       "    <tr>\n",
       "      <th>3</th>\n",
       "      <td>ministrstvo za solidarno prihodnost</td>\n",
       "      <td>posameznih resorjev. Na novo bi oblikovali min...</td>\n",
       "      <td>3089645</td>\n",
       "    </tr>\n",
       "    <tr>\n",
       "      <th>4</th>\n",
       "      <td>ministrstvo za podnebje</td>\n",
       "      <td>ter za zdravje. Ustanovili bi tudi ministrstvo...</td>\n",
       "      <td>3089645</td>\n",
       "    </tr>\n",
       "  </tbody>\n",
       "</table>\n",
       "</div>"
      ],
      "text/plain": [
       "                                 entity  \\\n",
       "0                                   SDS   \n",
       "1                                    DZ   \n",
       "2                                    DZ   \n",
       "3   ministrstvo za solidarno prihodnost   \n",
       "4               ministrstvo za podnebje   \n",
       "\n",
       "                                             context  article_id  \n",
       "0                      SDS bo v prihodnjih dneh v DZ     3089645  \n",
       "1  SDS bo v prihodnjih dneh v DZ vložila zahtevo ...     3089645  \n",
       "2  dolgotrajni oskrbi, kot jih je sprejel DZ .<b>...     3089645  \n",
       "3  posameznih resorjev. Na novo bi oblikovali min...     3089645  \n",
       "4  ter za zdravje. Ustanovili bi tudi ministrstvo...     3089645  "
      ]
     },
     "execution_count": 16,
     "metadata": {},
     "output_type": "execute_result"
    }
   ],
   "source": [
    "# df = pd.read_json(\"..\\\\data\\\\train_test\\\\sampled_2022_ner.jsonl\", lines=True)\n",
    "# df.head()"
   ]
  },
  {
   "cell_type": "code",
   "execution_count": 74,
   "metadata": {},
   "outputs": [],
   "source": [
    "# labels = []\n",
    "# test_sample = df.sample(100)\n",
    "\n",
    "# from IPython.display import clear_output\n",
    "# from google.cloud import translate_v2 as translate\n",
    "# os.environ[\"PROJECT_ID\"] = 'sound-memory-386318'\n",
    "\n",
    "# i = 0\n",
    "# for entity, text in zip(test_sample['entity'].to_list(), test_sample['context'].to_list()):\n",
    "#     translate_client = translate.Client()\n",
    "#     result = translate_client.translate(text, target_language=\"en\")\n",
    "\n",
    "#     print(f\"========================={i}=======================\")\n",
    "#     print(f\"Entity: {entity}\")\n",
    "#     print(f\"Text: {result['input']}\")\n",
    "#     print(f\"Translation: {result['translatedText']}\")\n",
    "#     print(\"==================================================\")\n",
    "#     labels.append(input())\n",
    "#     clear_output()\n",
    "#     i += 1"
   ]
  }
 ],
 "metadata": {
  "kernelspec": {
   "display_name": "par3",
   "language": "python",
   "name": "python3"
  },
  "language_info": {
   "codemirror_mode": {
    "name": "ipython",
    "version": 3
   },
   "file_extension": ".py",
   "mimetype": "text/x-python",
   "name": "python",
   "nbconvert_exporter": "python",
   "pygments_lexer": "ipython3",
   "version": "3.10.11"
  },
  "orig_nbformat": 4
 },
 "nbformat": 4,
 "nbformat_minor": 2
}

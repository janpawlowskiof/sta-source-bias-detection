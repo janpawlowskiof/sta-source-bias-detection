{
 "cells": [
  {
   "cell_type": "code",
   "execution_count": 14,
   "metadata": {},
   "outputs": [],
   "source": [
    "import requests\n",
    "import os\n",
    "import pandas as pd\n",
    "from datetime import datetime\n",
    "from tqdm import tqdm"
   ]
  },
  {
   "attachments": {},
   "cell_type": "markdown",
   "metadata": {},
   "source": [
    "### 1. Articles scrapping"
   ]
  },
  {
   "cell_type": "code",
   "execution_count": 39,
   "metadata": {},
   "outputs": [
    {
     "name": "stderr",
     "output_type": "stream",
     "text": [
      "100%|██████████| 31/31 [11:34<00:00, 22.41s/it]\n"
     ]
    }
   ],
   "source": [
    "with open('../.api_auth') as f:\n",
    "    (api_login, api_pass) = [line.rstrip() for line in f]\n",
    "\n",
    "ids = []\n",
    "leads = []\n",
    "texts = []\n",
    "\n",
    "date_range = pd.date_range(start=\"2023-01-01\", end=\"2023-01-31\").strftime('%d.%m.%Y').to_list()\n",
    "for date in tqdm(date_range):\n",
    "    r1 = requests.get(f'https://api.sta.si/news/sl/{date}', auth=(api_login, api_pass))\n",
    "    articles_id = eval(r1.content)\n",
    "\n",
    "    for id in articles_id:\n",
    "        r2 = requests.get(f'https://api.sta.si/news/sta/{id}', auth=(api_login, api_pass))\n",
    "        ids.append(id)\n",
    "        leads.append(r2.json().get('lede', ''))\n",
    "        texts.append(r2.json().get('text', ''))\n",
    "\n",
    "dataset = pd.DataFrame({'id': ids, 'lead': leads, 'text': texts})\n",
    "dataset.to_json(f'../data/raw_articles/01_2023.jsonl', lines=True, orient='records')"
   ]
  },
  {
   "attachments": {},
   "cell_type": "markdown",
   "metadata": {},
   "source": [
    "### 2. Preparing evaluation dataset"
   ]
  },
  {
   "cell_type": "code",
   "execution_count": 47,
   "metadata": {},
   "outputs": [
    {
     "data": {
      "text/html": [
       "<div>\n",
       "<style scoped>\n",
       "    .dataframe tbody tr th:only-of-type {\n",
       "        vertical-align: middle;\n",
       "    }\n",
       "\n",
       "    .dataframe tbody tr th {\n",
       "        vertical-align: top;\n",
       "    }\n",
       "\n",
       "    .dataframe thead th {\n",
       "        text-align: right;\n",
       "    }\n",
       "</style>\n",
       "<table border=\"1\" class=\"dataframe\">\n",
       "  <thead>\n",
       "    <tr style=\"text-align: right;\">\n",
       "      <th></th>\n",
       "      <th>id</th>\n",
       "      <th>lead</th>\n",
       "      <th>text</th>\n",
       "    </tr>\n",
       "  </thead>\n",
       "  <tbody>\n",
       "    <tr>\n",
       "      <th>0</th>\n",
       "      <td>3123185</td>\n",
       "      <td></td>\n",
       "      <td></td>\n",
       "    </tr>\n",
       "    <tr>\n",
       "      <th>1</th>\n",
       "      <td>3123019</td>\n",
       "      <td>Slovenska tiskovna agencija d.o.o.\\n&lt;pre&gt;\\n   ...</td>\n",
       "      <td></td>\n",
       "    </tr>\n",
       "    <tr>\n",
       "      <th>2</th>\n",
       "      <td>3122502</td>\n",
       "      <td>Vstopili smo v novo leto 2023. Od starega leta...</td>\n",
       "      <td>Predsednica republike Nataša Pirc Musar je v p...</td>\n",
       "    </tr>\n",
       "    <tr>\n",
       "      <th>3</th>\n",
       "      <td>3122717</td>\n",
       "      <td>Slovenska tiskovna agencija (STA) želi vsem na...</td>\n",
       "      <td></td>\n",
       "    </tr>\n",
       "    <tr>\n",
       "      <th>4</th>\n",
       "      <td>3123186</td>\n",
       "      <td>Hrvaška je ob polnoči vstopila v schengensko o...</td>\n",
       "      <td></td>\n",
       "    </tr>\n",
       "    <tr>\n",
       "      <th>...</th>\n",
       "      <td>...</td>\n",
       "      <td>...</td>\n",
       "      <td>...</td>\n",
       "    </tr>\n",
       "    <tr>\n",
       "      <th>24897</th>\n",
       "      <td>3165820</td>\n",
       "      <td>Izidi 32. kroga španske nogometne lige in lest...</td>\n",
       "      <td>&lt;pre&gt;\\n* Izidi, 32. krog:\\n- petek, 28. april:...</td>\n",
       "    </tr>\n",
       "    <tr>\n",
       "      <th>24898</th>\n",
       "      <td>3165848</td>\n",
       "      <td>Nogometaši Atletica iz Madrida so v 32. krogu ...</td>\n",
       "      <td>Sredi prvega polčasa je Atletico, za katerega ...</td>\n",
       "    </tr>\n",
       "    <tr>\n",
       "      <th>24899</th>\n",
       "      <td>3165850</td>\n",
       "      <td>Sindikati se morajo tudi v času rekordno nizke...</td>\n",
       "      <td>Kot je povedal Volf, so se tudi letos pripravi...</td>\n",
       "    </tr>\n",
       "    <tr>\n",
       "      <th>24900</th>\n",
       "      <td>3165853</td>\n",
       "      <td>Igralke v ženski nogometni ligi Triglav Zdravj...</td>\n",
       "      <td>Mura je terensko premoč potrdila v 61. minuti....</td>\n",
       "    </tr>\n",
       "    <tr>\n",
       "      <th>24901</th>\n",
       "      <td>3165847</td>\n",
       "      <td>Pregled športnih dogodkov v Sloveniji in svetu...</td>\n",
       "      <td>VELENJE - Slovenska moška rokometna reprezenta...</td>\n",
       "    </tr>\n",
       "  </tbody>\n",
       "</table>\n",
       "<p>24902 rows × 3 columns</p>\n",
       "</div>"
      ],
      "text/plain": [
       "            id                                               lead  \\\n",
       "0      3123185                                                      \n",
       "1      3123019  Slovenska tiskovna agencija d.o.o.\\n<pre>\\n   ...   \n",
       "2      3122502  Vstopili smo v novo leto 2023. Od starega leta...   \n",
       "3      3122717  Slovenska tiskovna agencija (STA) želi vsem na...   \n",
       "4      3123186  Hrvaška je ob polnoči vstopila v schengensko o...   \n",
       "...        ...                                                ...   \n",
       "24897  3165820  Izidi 32. kroga španske nogometne lige in lest...   \n",
       "24898  3165848  Nogometaši Atletica iz Madrida so v 32. krogu ...   \n",
       "24899  3165850  Sindikati se morajo tudi v času rekordno nizke...   \n",
       "24900  3165853  Igralke v ženski nogometni ligi Triglav Zdravj...   \n",
       "24901  3165847  Pregled športnih dogodkov v Sloveniji in svetu...   \n",
       "\n",
       "                                                    text  \n",
       "0                                                         \n",
       "1                                                         \n",
       "2      Predsednica republike Nataša Pirc Musar je v p...  \n",
       "3                                                         \n",
       "4                                                         \n",
       "...                                                  ...  \n",
       "24897  <pre>\\n* Izidi, 32. krog:\\n- petek, 28. april:...  \n",
       "24898  Sredi prvega polčasa je Atletico, za katerega ...  \n",
       "24899  Kot je povedal Volf, so se tudi letos pripravi...  \n",
       "24900  Mura je terensko premoč potrdila v 61. minuti....  \n",
       "24901  VELENJE - Slovenska moška rokometna reprezenta...  \n",
       "\n",
       "[24902 rows x 3 columns]"
      ]
     },
     "execution_count": 47,
     "metadata": {},
     "output_type": "execute_result"
    }
   ],
   "source": [
    "pd.read_json(\"..\\\\data\\\\raw_articles\\\\all_2023.jsonl\", lines=True)"
   ]
  }
 ],
 "metadata": {
  "kernelspec": {
   "display_name": "par3",
   "language": "python",
   "name": "python3"
  },
  "language_info": {
   "codemirror_mode": {
    "name": "ipython",
    "version": 3
   },
   "file_extension": ".py",
   "mimetype": "text/x-python",
   "name": "python",
   "nbconvert_exporter": "python",
   "pygments_lexer": "ipython3",
   "version": "3.10.11"
  },
  "orig_nbformat": 4
 },
 "nbformat": 4,
 "nbformat_minor": 2
}

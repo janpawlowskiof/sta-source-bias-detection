{
 "cells": [
  {
   "cell_type": "code",
   "execution_count": 17,
   "metadata": {},
   "outputs": [],
   "source": [
    "import requests\n",
    "import os\n",
    "import pandas as pd\n",
    "from datetime import datetime\n",
    "from tqdm import tqdm"
   ]
  },
  {
   "attachments": {},
   "cell_type": "markdown",
   "metadata": {},
   "source": [
    "### 1. Articles scrapping"
   ]
  },
  {
   "cell_type": "code",
   "execution_count": 39,
   "metadata": {},
   "outputs": [
    {
     "name": "stderr",
     "output_type": "stream",
     "text": [
      "100%|██████████| 31/31 [11:34<00:00, 22.41s/it]\n"
     ]
    }
   ],
   "source": [
    "# with open('../.api_auth') as f:\n",
    "#     (api_login, api_pass) = [line.rstrip() for line in f]\n",
    "\n",
    "# ids = []\n",
    "# leads = []\n",
    "# texts = []\n",
    "\n",
    "# date_range = pd.date_range(start=\"2023-01-01\", end=\"2023-01-31\").strftime('%d.%m.%Y').to_list()\n",
    "# for date in tqdm(date_range):\n",
    "#     r1 = requests.get(f'https://api.sta.si/news/sl/{date}', auth=(api_login, api_pass))\n",
    "#     articles_id = eval(r1.content)\n",
    "\n",
    "#     for id in articles_id:\n",
    "#         r2 = requests.get(f'https://api.sta.si/news/sta/{id}', auth=(api_login, api_pass))\n",
    "#         ids.append(id)\n",
    "#         leads.append(r2.json().get('lede', ''))\n",
    "#         texts.append(r2.json().get('text', ''))\n",
    "\n",
    "# dataset = pd.DataFrame({'id': ids, 'lead': leads, 'text': texts})\n",
    "# dataset.to_json(f'../data/raw_articles/01_2023.jsonl', lines=True, orient='records')"
   ]
  },
  {
   "attachments": {},
   "cell_type": "markdown",
   "metadata": {},
   "source": [
    "### 2. Preparing evaluation dataset"
   ]
  },
  {
   "cell_type": "code",
   "execution_count": 12,
   "metadata": {},
   "outputs": [],
   "source": [
    "# df = pd.read_json(\"..\\\\data\\\\raw_articles\\\\all_2023.jsonl\", lines=True)\n",
    "# df_eval = df.sample(100).reset_index(drop=True)\n",
    "# df_eval.to_json(f'../data/raw_articles/all_2023_eval.jsonl', lines=True, orient='records', force_ascii=False)"
   ]
  },
  {
   "cell_type": "code",
   "execution_count": 48,
   "metadata": {},
   "outputs": [],
   "source": [
    "# df = pd.read_json(\"..\\\\data\\\\raw_annotated\\\\sta_01.json\", lines=True)['examples']\n",
    "\n",
    "# id      = []\n",
    "# content = []\n",
    "# start   = []\n",
    "# end     = []\n",
    "# value   = []\n",
    "\n",
    "# for i in range(len(df[0])):\n",
    "#     row = df[0][i]\n",
    "#     for annotation in row['annotations']:\n",
    "#         if annotation['correct'] == True:\n",
    "#             id.append(row['metadata']['id'])\n",
    "#             content.append(row['content'])\n",
    "#             start.append(annotation['start'])\n",
    "#             end.append(annotation['end'])\n",
    "#             value.append(annotation['value'])\n"
   ]
  },
  {
   "cell_type": "code",
   "execution_count": 67,
   "metadata": {},
   "outputs": [],
   "source": [
    "# eval_ds = pd.DataFrame({'id': id, 'text': content, 'entity': value, 'start': start, 'end': end})\n",
    "# eval_ds.to_json(f'../data/2023_eval.jsonl', lines=True, orient='records', force_ascii=False)"
   ]
  }
 ],
 "metadata": {
  "kernelspec": {
   "display_name": "par3",
   "language": "python",
   "name": "python3"
  },
  "language_info": {
   "codemirror_mode": {
    "name": "ipython",
    "version": 3
   },
   "file_extension": ".py",
   "mimetype": "text/x-python",
   "name": "python",
   "nbconvert_exporter": "python",
   "pygments_lexer": "ipython3",
   "version": "3.10.11"
  },
  "orig_nbformat": 4
 },
 "nbformat": 4,
 "nbformat_minor": 2
}

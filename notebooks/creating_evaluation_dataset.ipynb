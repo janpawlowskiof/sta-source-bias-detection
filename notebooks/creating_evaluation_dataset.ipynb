{
 "cells": [
  {
   "cell_type": "code",
   "execution_count": 14,
   "metadata": {},
   "outputs": [],
   "source": [
    "import requests\n",
    "import os\n",
    "import pandas as pd\n",
    "from datetime import datetime\n",
    "from tqdm import tqdm\n",
    "\n",
    "with open('../.api_auth') as f:\n",
    "    (api_login, api_pass) = [line.rstrip() for line in f]"
   ]
  },
  {
   "cell_type": "code",
   "execution_count": 16,
   "metadata": {},
   "outputs": [
    {
     "name": "stderr",
     "output_type": "stream",
     "text": [
      "100%|██████████| 30/30 [05:58<00:00, 11.95s/it]\n"
     ]
    }
   ],
   "source": [
    "ids = []\n",
    "leads = []\n",
    "texts = []\n",
    "\n",
    "date_range = pd.date_range(start=\"2023-04-01\", end=\"2023-04-30\").strftime('%d.%m.%Y').to_list()\n",
    "for date in tqdm(date_range):\n",
    "    r1 = requests.get(f'https://api.sta.si/news/sl/{date}', auth=(api_login, api_pass))\n",
    "    articles_id = eval(r1.content)\n",
    "\n",
    "    for id in articles_id:\n",
    "        r2 = requests.get(f'https://api.sta.si/news/sta/{id}', auth=(api_login, api_pass))\n",
    "        ids.append(id)\n",
    "        leads.append(r2.json().get('lede', ''))\n",
    "        texts.append(r2.json().get('text', ''))\n"
   ]
  },
  {
   "cell_type": "code",
   "execution_count": 25,
   "metadata": {},
   "outputs": [],
   "source": [
    "dataset = pd.DataFrame({'id': ids, 'lead': leads, 'text': texts})\n",
    "dataset.to_json(f'../data/raw_articles/04_2023.jsonl', lines=True, orient='records')"
   ]
  }
 ],
 "metadata": {
  "kernelspec": {
   "display_name": "par3",
   "language": "python",
   "name": "python3"
  },
  "language_info": {
   "codemirror_mode": {
    "name": "ipython",
    "version": 3
   },
   "file_extension": ".py",
   "mimetype": "text/x-python",
   "name": "python",
   "nbconvert_exporter": "python",
   "pygments_lexer": "ipython3",
   "version": "3.10.11"
  },
  "orig_nbformat": 4
 },
 "nbformat": 4,
 "nbformat_minor": 2
}

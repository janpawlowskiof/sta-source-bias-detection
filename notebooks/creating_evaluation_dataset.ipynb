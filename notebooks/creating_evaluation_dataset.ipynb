{
 "cells": [
  {
   "cell_type": "code",
   "execution_count": 1,
   "metadata": {},
   "outputs": [],
   "source": [
    "import requests\n",
    "import os\n",
    "import pandas as pd\n",
    "from datetime import datetime\n",
    "from tqdm import tqdm\n",
    "\n",
    "os.environ['NETRC'] = '/data5/dkurowski/AI-sem2/STA-Slovenia/.netrc'"
   ]
  },
  {
   "cell_type": "code",
   "execution_count": 7,
   "metadata": {},
   "outputs": [
    {
     "name": "stdout",
     "output_type": "stream",
     "text": [
      "01.05.2023\n"
     ]
    },
    {
     "name": "stderr",
     "output_type": "stream",
     "text": [
      "100%|██████████| 106/106 [09:17<00:00,  5.26s/it]\n"
     ]
    },
    {
     "name": "stdout",
     "output_type": "stream",
     "text": [
      "02.05.2023\n"
     ]
    },
    {
     "name": "stderr",
     "output_type": "stream",
     "text": [
      " 64%|██████▎   | 87/137 [07:36<04:21,  5.23s/it]"
     ]
    }
   ],
   "source": [
    "ids = []\n",
    "leads = []\n",
    "texts = []\n",
    "\n",
    "date_range = pd.date_range(start=\"2023-05-01\", end=\"2023-05-02\").strftime('%d.%m.%Y').to_list()\n",
    "for date in date_range:\n",
    "    print(date)\n",
    "    r1 = requests.get(f'https://api.sta.si/news/sl/{date}')\n",
    "    articles_id = eval(r1.content)\n",
    "\n",
    "    for id in tqdm(articles_id):\n",
    "        r2 = requests.get(f'https://api.sta.si/news/sta/{id}')\n",
    "        ids.append(id)\n",
    "        leads.append(r2.json().get('lede', ''))\n",
    "        texts.append(r2.json().get('text', ''))\n",
    "    \n",
    "    dataset = pd.DataFrame({'id': ids, 'lead': leads, 'text': texts})\n",
    "    dataset.to_csv(f'/data5/dkurowski/AI-sem2/STA-Slovenia/data/raw_articles/{date.replace(\".\", \"_\")}.csv')"
   ]
  }
 ],
 "metadata": {
  "kernelspec": {
   "display_name": "par3",
   "language": "python",
   "name": "python3"
  },
  "language_info": {
   "codemirror_mode": {
    "name": "ipython",
    "version": 3
   },
   "file_extension": ".py",
   "mimetype": "text/x-python",
   "name": "python",
   "nbconvert_exporter": "python",
   "pygments_lexer": "ipython3",
   "version": "3.10.10"
  },
  "orig_nbformat": 4
 },
 "nbformat": 4,
 "nbformat_minor": 2
}

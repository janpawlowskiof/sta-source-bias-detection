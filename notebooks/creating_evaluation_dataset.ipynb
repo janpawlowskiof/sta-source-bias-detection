{
 "cells": [
  {
   "cell_type": "code",
   "execution_count": 2,
   "metadata": {},
   "outputs": [],
   "source": [
    "import requests\n",
    "import os\n",
    "import pandas as pd\n",
    "from datetime import datetime\n",
    "from tqdm import tqdm"
   ]
  },
  {
   "attachments": {},
   "cell_type": "markdown",
   "metadata": {},
   "source": [
    "### 1. Articles scrapping"
   ]
  },
  {
   "cell_type": "code",
   "execution_count": 39,
   "metadata": {},
   "outputs": [
    {
     "name": "stderr",
     "output_type": "stream",
     "text": [
      "100%|██████████| 31/31 [11:34<00:00, 22.41s/it]\n"
     ]
    }
   ],
   "source": [
    "with open('../.api_auth') as f:\n",
    "    (api_login, api_pass) = [line.rstrip() for line in f]\n",
    "\n",
    "ids = []\n",
    "leads = []\n",
    "texts = []\n",
    "\n",
    "date_range = pd.date_range(start=\"2023-01-01\", end=\"2023-01-31\").strftime('%d.%m.%Y').to_list()\n",
    "for date in tqdm(date_range):\n",
    "    r1 = requests.get(f'https://api.sta.si/news/sl/{date}', auth=(api_login, api_pass))\n",
    "    articles_id = eval(r1.content)\n",
    "\n",
    "    for id in articles_id:\n",
    "        r2 = requests.get(f'https://api.sta.si/news/sta/{id}', auth=(api_login, api_pass))\n",
    "        ids.append(id)\n",
    "        leads.append(r2.json().get('lede', ''))\n",
    "        texts.append(r2.json().get('text', ''))\n",
    "\n",
    "dataset = pd.DataFrame({'id': ids, 'lead': leads, 'text': texts})\n",
    "dataset.to_json(f'../data/raw_articles/01_2023.jsonl', lines=True, orient='records')"
   ]
  },
  {
   "attachments": {},
   "cell_type": "markdown",
   "metadata": {},
   "source": [
    "### 2. Preparing evaluation dataset"
   ]
  },
  {
   "cell_type": "code",
   "execution_count": 12,
   "metadata": {},
   "outputs": [],
   "source": [
    "# df = pd.read_json(\"..\\\\data\\\\raw_articles\\\\all_2023.jsonl\", lines=True)\n",
    "# df_eval = df.sample(100).reset_index(drop=True)\n",
    "# df_eval.to_json(f'../data/raw_articles/all_2023_eval.jsonl', lines=True, orient='records', force_ascii=False)"
   ]
  },
  {
   "cell_type": "code",
   "execution_count": 48,
   "metadata": {},
   "outputs": [],
   "source": [
    "# df = pd.read_json(\"..\\\\data\\\\raw_annotated\\\\sta_01.json\", lines=True)['examples']\n",
    "\n",
    "# id      = []\n",
    "# content = []\n",
    "# start   = []\n",
    "# end     = []\n",
    "# value   = []\n",
    "\n",
    "# for i in range(len(df[0])):\n",
    "#     row = df[0][i]\n",
    "#     for annotation in row['annotations']:\n",
    "#         if annotation['correct'] == True:\n",
    "#             id.append(row['metadata']['id'])\n",
    "#             content.append(row['content'])\n",
    "#             start.append(annotation['start'])\n",
    "#             end.append(annotation['end'])\n",
    "#             value.append(annotation['value'])\n"
   ]
  },
  {
   "cell_type": "code",
   "execution_count": 67,
   "metadata": {},
   "outputs": [],
   "source": [
    "# eval_df = pd.DataFrame({'id': id, 'text': content, 'entity': value, 'start': start, 'end': end})\n",
    "# eval_df.to_json(f'../data/2023_eval.jsonl', lines=True, orient='records', force_ascii=False)"
   ]
  },
  {
   "attachments": {},
   "cell_type": "markdown",
   "metadata": {},
   "source": [
    "### 3. SlovenianNER"
   ]
  },
  {
   "cell_type": "code",
   "execution_count": 5,
   "metadata": {},
   "outputs": [
    {
     "data": {
      "text/html": [
       "<div>\n",
       "<style scoped>\n",
       "    .dataframe tbody tr th:only-of-type {\n",
       "        vertical-align: middle;\n",
       "    }\n",
       "\n",
       "    .dataframe tbody tr th {\n",
       "        vertical-align: top;\n",
       "    }\n",
       "\n",
       "    .dataframe thead th {\n",
       "        text-align: right;\n",
       "    }\n",
       "</style>\n",
       "<table border=\"1\" class=\"dataframe\">\n",
       "  <thead>\n",
       "    <tr style=\"text-align: right;\">\n",
       "      <th></th>\n",
       "      <th>id</th>\n",
       "      <th>text</th>\n",
       "      <th>entity</th>\n",
       "      <th>start</th>\n",
       "      <th>end</th>\n",
       "    </tr>\n",
       "  </thead>\n",
       "  <tbody>\n",
       "    <tr>\n",
       "      <th>0</th>\n",
       "      <td>3150358</td>\n",
       "      <td>Slovenska javnost prispevku dobrega zdravja in...</td>\n",
       "      <td>Lana Blinc</td>\n",
       "      <td>523</td>\n",
       "      <td>533</td>\n",
       "    </tr>\n",
       "    <tr>\n",
       "      <th>1</th>\n",
       "      <td>3161463</td>\n",
       "      <td>Naravnanost fiskalne politike, predvidena v sr...</td>\n",
       "      <td>fiskalni svet</td>\n",
       "      <td>262</td>\n",
       "      <td>275</td>\n",
       "    </tr>\n",
       "    <tr>\n",
       "      <th>2</th>\n",
       "      <td>3151733</td>\n",
       "      <td>S francoskim filmom Črta režiserke Ursule Meie...</td>\n",
       "      <td>Kinodvoru</td>\n",
       "      <td>62</td>\n",
       "      <td>71</td>\n",
       "    </tr>\n",
       "    <tr>\n",
       "      <th>3</th>\n",
       "      <td>3151733</td>\n",
       "      <td>S francoskim filmom Črta režiserke Ursule Meie...</td>\n",
       "      <td>Francoskem inštitutu v Sloveniji</td>\n",
       "      <td>2290</td>\n",
       "      <td>2322</td>\n",
       "    </tr>\n",
       "    <tr>\n",
       "      <th>4</th>\n",
       "      <td>3152968</td>\n",
       "      <td>Kitajska vojska je danes sporočila, da je opoz...</td>\n",
       "      <td>francoska tiskovna agencija AFP</td>\n",
       "      <td>691</td>\n",
       "      <td>722</td>\n",
       "    </tr>\n",
       "    <tr>\n",
       "      <th>...</th>\n",
       "      <td>...</td>\n",
       "      <td>...</td>\n",
       "      <td>...</td>\n",
       "      <td>...</td>\n",
       "      <td>...</td>\n",
       "    </tr>\n",
       "    <tr>\n",
       "      <th>87</th>\n",
       "      <td>3158301</td>\n",
       "      <td>Andreja Kutin v komentarju Zelena prehajanja o...</td>\n",
       "      <td>Andreja Kutin</td>\n",
       "      <td>0</td>\n",
       "      <td>13</td>\n",
       "    </tr>\n",
       "    <tr>\n",
       "      <th>88</th>\n",
       "      <td>3158725</td>\n",
       "      <td>Hokejisti Sija Acronija Jesenic bodo v soboto ...</td>\n",
       "      <td>Gašper Glavič</td>\n",
       "      <td>1183</td>\n",
       "      <td>1196</td>\n",
       "    </tr>\n",
       "    <tr>\n",
       "      <th>89</th>\n",
       "      <td>3158725</td>\n",
       "      <td>Hokejisti Sija Acronija Jesenic bodo v soboto ...</td>\n",
       "      <td>Gaber Glavič</td>\n",
       "      <td>1888</td>\n",
       "      <td>1900</td>\n",
       "    </tr>\n",
       "    <tr>\n",
       "      <th>90</th>\n",
       "      <td>3150559</td>\n",
       "      <td>Eden največjih svetovnih proizvajalcev avtobus...</td>\n",
       "      <td>Volvo Buses</td>\n",
       "      <td>49</td>\n",
       "      <td>60</td>\n",
       "    </tr>\n",
       "    <tr>\n",
       "      <th>91</th>\n",
       "      <td>3150559</td>\n",
       "      <td>Eden največjih svetovnih proizvajalcev avtobus...</td>\n",
       "      <td>poljska tiskovna agencija PAP</td>\n",
       "      <td>577</td>\n",
       "      <td>606</td>\n",
       "    </tr>\n",
       "  </tbody>\n",
       "</table>\n",
       "<p>92 rows × 5 columns</p>\n",
       "</div>"
      ],
      "text/plain": [
       "         id                                               text  \\\n",
       "0   3150358  Slovenska javnost prispevku dobrega zdravja in...   \n",
       "1   3161463  Naravnanost fiskalne politike, predvidena v sr...   \n",
       "2   3151733  S francoskim filmom Črta režiserke Ursule Meie...   \n",
       "3   3151733  S francoskim filmom Črta režiserke Ursule Meie...   \n",
       "4   3152968  Kitajska vojska je danes sporočila, da je opoz...   \n",
       "..      ...                                                ...   \n",
       "87  3158301  Andreja Kutin v komentarju Zelena prehajanja o...   \n",
       "88  3158725  Hokejisti Sija Acronija Jesenic bodo v soboto ...   \n",
       "89  3158725  Hokejisti Sija Acronija Jesenic bodo v soboto ...   \n",
       "90  3150559  Eden največjih svetovnih proizvajalcev avtobus...   \n",
       "91  3150559  Eden največjih svetovnih proizvajalcev avtobus...   \n",
       "\n",
       "                              entity  start   end  \n",
       "0                         Lana Blinc    523   533  \n",
       "1                      fiskalni svet    262   275  \n",
       "2                          Kinodvoru     62    71  \n",
       "3   Francoskem inštitutu v Sloveniji   2290  2322  \n",
       "4    francoska tiskovna agencija AFP    691   722  \n",
       "..                               ...    ...   ...  \n",
       "87                     Andreja Kutin      0    13  \n",
       "88                     Gašper Glavič   1183  1196  \n",
       "89                      Gaber Glavič   1888  1900  \n",
       "90                       Volvo Buses     49    60  \n",
       "91     poljska tiskovna agencija PAP    577   606  \n",
       "\n",
       "[92 rows x 5 columns]"
      ]
     },
     "execution_count": 5,
     "metadata": {},
     "output_type": "execute_result"
    }
   ],
   "source": [
    "eval_df = pd.read_json(\"..\\\\data\\\\2023_eval.jsonl\", lines=True)\n",
    "eval_df"
   ]
  },
  {
   "cell_type": "code",
   "execution_count": null,
   "metadata": {},
   "outputs": [],
   "source": []
  }
 ],
 "metadata": {
  "kernelspec": {
   "display_name": "par3",
   "language": "python",
   "name": "python3"
  },
  "language_info": {
   "codemirror_mode": {
    "name": "ipython",
    "version": 3
   },
   "file_extension": ".py",
   "mimetype": "text/x-python",
   "name": "python",
   "nbconvert_exporter": "python",
   "pygments_lexer": "ipython3",
   "version": "3.10.11"
  },
  "orig_nbformat": 4
 },
 "nbformat": 4,
 "nbformat_minor": 2
}
